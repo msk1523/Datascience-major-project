{
  "nbformat": 4,
  "nbformat_minor": 0,
  "metadata": {
    "colab": {
      "provenance": [],
      "authorship_tag": "ABX9TyMuDfketBb4NvlTCrcBxX9F",
      "include_colab_link": true
    },
    "kernelspec": {
      "name": "python3",
      "display_name": "Python 3"
    },
    "language_info": {
      "name": "python"
    }
  },
  "cells": [
    {
      "cell_type": "markdown",
      "metadata": {
        "id": "view-in-github",
        "colab_type": "text"
      },
      "source": [
        "<a href=\"https://colab.research.google.com/github/msk1523/Datascience-major-project/blob/main/MajorProject1(Siva%20Kumaran%20M).ipynb\" target=\"_parent\"><img src=\"https://colab.research.google.com/assets/colab-badge.svg\" alt=\"Open In Colab\"/></a>"
      ]
    },
    {
      "cell_type": "code",
      "execution_count": null,
      "metadata": {
        "id": "_QwGVofrr7sp"
      },
      "outputs": [],
      "source": [
        "#MAJOR PROJECT 1\n",
        "#Shoe size dataset"
      ]
    },
    {
      "cell_type": "code",
      "source": [
        "#1. Import the data\n",
        "import pandas as pd\n",
        "df=pd.read_csv('/content/wo_men.csv')\n",
        "df"
      ],
      "metadata": {
        "colab": {
          "base_uri": "https://localhost:8080/",
          "height": 424
        },
        "id": "l_HW2RH-t770",
        "outputId": "41cf4ee9-9d2d-457b-8d12-9924b79ac005"
      },
      "execution_count": null,
      "outputs": [
        {
          "output_type": "execute_result",
          "data": {
            "text/plain": [
              "                    time    sex  height  shoe_size\n",
              "0    04.10.2016 17:58:51  woman   160.0       40.0\n",
              "1    04.10.2016 17:58:59  woman   171.0       39.0\n",
              "2    04.10.2016 18:00:15  woman   174.0       39.0\n",
              "3    04.10.2016 18:01:17  woman   176.0       40.0\n",
              "4    04.10.2016 18:01:22    man   195.0       46.0\n",
              "..                   ...    ...     ...        ...\n",
              "96   17.10.2016 12:37:09  woman   170.0       39.0\n",
              "97   17.10.2016 13:12:48  woman   183.0       39.0\n",
              "98   19.10.2016 17:07:53  woman   173.0       40.0\n",
              "99   29.10.2016 20:28:33  woman   160.0       37.0\n",
              "100  30.10.2016 11:57:57  woman   168.0       39.0\n",
              "\n",
              "[101 rows x 4 columns]"
            ],
            "text/html": [
              "\n",
              "  <div id=\"df-b883e931-ada9-43d9-a795-cb43bed53e52\">\n",
              "    <div class=\"colab-df-container\">\n",
              "      <div>\n",
              "<style scoped>\n",
              "    .dataframe tbody tr th:only-of-type {\n",
              "        vertical-align: middle;\n",
              "    }\n",
              "\n",
              "    .dataframe tbody tr th {\n",
              "        vertical-align: top;\n",
              "    }\n",
              "\n",
              "    .dataframe thead th {\n",
              "        text-align: right;\n",
              "    }\n",
              "</style>\n",
              "<table border=\"1\" class=\"dataframe\">\n",
              "  <thead>\n",
              "    <tr style=\"text-align: right;\">\n",
              "      <th></th>\n",
              "      <th>time</th>\n",
              "      <th>sex</th>\n",
              "      <th>height</th>\n",
              "      <th>shoe_size</th>\n",
              "    </tr>\n",
              "  </thead>\n",
              "  <tbody>\n",
              "    <tr>\n",
              "      <th>0</th>\n",
              "      <td>04.10.2016 17:58:51</td>\n",
              "      <td>woman</td>\n",
              "      <td>160.0</td>\n",
              "      <td>40.0</td>\n",
              "    </tr>\n",
              "    <tr>\n",
              "      <th>1</th>\n",
              "      <td>04.10.2016 17:58:59</td>\n",
              "      <td>woman</td>\n",
              "      <td>171.0</td>\n",
              "      <td>39.0</td>\n",
              "    </tr>\n",
              "    <tr>\n",
              "      <th>2</th>\n",
              "      <td>04.10.2016 18:00:15</td>\n",
              "      <td>woman</td>\n",
              "      <td>174.0</td>\n",
              "      <td>39.0</td>\n",
              "    </tr>\n",
              "    <tr>\n",
              "      <th>3</th>\n",
              "      <td>04.10.2016 18:01:17</td>\n",
              "      <td>woman</td>\n",
              "      <td>176.0</td>\n",
              "      <td>40.0</td>\n",
              "    </tr>\n",
              "    <tr>\n",
              "      <th>4</th>\n",
              "      <td>04.10.2016 18:01:22</td>\n",
              "      <td>man</td>\n",
              "      <td>195.0</td>\n",
              "      <td>46.0</td>\n",
              "    </tr>\n",
              "    <tr>\n",
              "      <th>...</th>\n",
              "      <td>...</td>\n",
              "      <td>...</td>\n",
              "      <td>...</td>\n",
              "      <td>...</td>\n",
              "    </tr>\n",
              "    <tr>\n",
              "      <th>96</th>\n",
              "      <td>17.10.2016 12:37:09</td>\n",
              "      <td>woman</td>\n",
              "      <td>170.0</td>\n",
              "      <td>39.0</td>\n",
              "    </tr>\n",
              "    <tr>\n",
              "      <th>97</th>\n",
              "      <td>17.10.2016 13:12:48</td>\n",
              "      <td>woman</td>\n",
              "      <td>183.0</td>\n",
              "      <td>39.0</td>\n",
              "    </tr>\n",
              "    <tr>\n",
              "      <th>98</th>\n",
              "      <td>19.10.2016 17:07:53</td>\n",
              "      <td>woman</td>\n",
              "      <td>173.0</td>\n",
              "      <td>40.0</td>\n",
              "    </tr>\n",
              "    <tr>\n",
              "      <th>99</th>\n",
              "      <td>29.10.2016 20:28:33</td>\n",
              "      <td>woman</td>\n",
              "      <td>160.0</td>\n",
              "      <td>37.0</td>\n",
              "    </tr>\n",
              "    <tr>\n",
              "      <th>100</th>\n",
              "      <td>30.10.2016 11:57:57</td>\n",
              "      <td>woman</td>\n",
              "      <td>168.0</td>\n",
              "      <td>39.0</td>\n",
              "    </tr>\n",
              "  </tbody>\n",
              "</table>\n",
              "<p>101 rows × 4 columns</p>\n",
              "</div>\n",
              "      <button class=\"colab-df-convert\" onclick=\"convertToInteractive('df-b883e931-ada9-43d9-a795-cb43bed53e52')\"\n",
              "              title=\"Convert this dataframe to an interactive table.\"\n",
              "              style=\"display:none;\">\n",
              "        \n",
              "  <svg xmlns=\"http://www.w3.org/2000/svg\" height=\"24px\"viewBox=\"0 0 24 24\"\n",
              "       width=\"24px\">\n",
              "    <path d=\"M0 0h24v24H0V0z\" fill=\"none\"/>\n",
              "    <path d=\"M18.56 5.44l.94 2.06.94-2.06 2.06-.94-2.06-.94-.94-2.06-.94 2.06-2.06.94zm-11 1L8.5 8.5l.94-2.06 2.06-.94-2.06-.94L8.5 2.5l-.94 2.06-2.06.94zm10 10l.94 2.06.94-2.06 2.06-.94-2.06-.94-.94-2.06-.94 2.06-2.06.94z\"/><path d=\"M17.41 7.96l-1.37-1.37c-.4-.4-.92-.59-1.43-.59-.52 0-1.04.2-1.43.59L10.3 9.45l-7.72 7.72c-.78.78-.78 2.05 0 2.83L4 21.41c.39.39.9.59 1.41.59.51 0 1.02-.2 1.41-.59l7.78-7.78 2.81-2.81c.8-.78.8-2.07 0-2.86zM5.41 20L4 18.59l7.72-7.72 1.47 1.35L5.41 20z\"/>\n",
              "  </svg>\n",
              "      </button>\n",
              "      \n",
              "  <style>\n",
              "    .colab-df-container {\n",
              "      display:flex;\n",
              "      flex-wrap:wrap;\n",
              "      gap: 12px;\n",
              "    }\n",
              "\n",
              "    .colab-df-convert {\n",
              "      background-color: #E8F0FE;\n",
              "      border: none;\n",
              "      border-radius: 50%;\n",
              "      cursor: pointer;\n",
              "      display: none;\n",
              "      fill: #1967D2;\n",
              "      height: 32px;\n",
              "      padding: 0 0 0 0;\n",
              "      width: 32px;\n",
              "    }\n",
              "\n",
              "    .colab-df-convert:hover {\n",
              "      background-color: #E2EBFA;\n",
              "      box-shadow: 0px 1px 2px rgba(60, 64, 67, 0.3), 0px 1px 3px 1px rgba(60, 64, 67, 0.15);\n",
              "      fill: #174EA6;\n",
              "    }\n",
              "\n",
              "    [theme=dark] .colab-df-convert {\n",
              "      background-color: #3B4455;\n",
              "      fill: #D2E3FC;\n",
              "    }\n",
              "\n",
              "    [theme=dark] .colab-df-convert:hover {\n",
              "      background-color: #434B5C;\n",
              "      box-shadow: 0px 1px 3px 1px rgba(0, 0, 0, 0.15);\n",
              "      filter: drop-shadow(0px 1px 2px rgba(0, 0, 0, 0.3));\n",
              "      fill: #FFFFFF;\n",
              "    }\n",
              "  </style>\n",
              "\n",
              "      <script>\n",
              "        const buttonEl =\n",
              "          document.querySelector('#df-b883e931-ada9-43d9-a795-cb43bed53e52 button.colab-df-convert');\n",
              "        buttonEl.style.display =\n",
              "          google.colab.kernel.accessAllowed ? 'block' : 'none';\n",
              "\n",
              "        async function convertToInteractive(key) {\n",
              "          const element = document.querySelector('#df-b883e931-ada9-43d9-a795-cb43bed53e52');\n",
              "          const dataTable =\n",
              "            await google.colab.kernel.invokeFunction('convertToInteractive',\n",
              "                                                     [key], {});\n",
              "          if (!dataTable) return;\n",
              "\n",
              "          const docLinkHtml = 'Like what you see? Visit the ' +\n",
              "            '<a target=\"_blank\" href=https://colab.research.google.com/notebooks/data_table.ipynb>data table notebook</a>'\n",
              "            + ' to learn more about interactive tables.';\n",
              "          element.innerHTML = '';\n",
              "          dataTable['output_type'] = 'display_data';\n",
              "          await google.colab.output.renderOutput(dataTable, element);\n",
              "          const docLink = document.createElement('div');\n",
              "          docLink.innerHTML = docLinkHtml;\n",
              "          element.appendChild(docLink);\n",
              "        }\n",
              "      </script>\n",
              "    </div>\n",
              "  </div>\n",
              "  "
            ]
          },
          "metadata": {},
          "execution_count": 90
        }
      ]
    },
    {
      "cell_type": "code",
      "source": [
        "df.info()"
      ],
      "metadata": {
        "colab": {
          "base_uri": "https://localhost:8080/"
        },
        "id": "qvvtjZooyzD1",
        "outputId": "f66cacf4-36cd-4e99-d71e-1fd4104fd984"
      },
      "execution_count": null,
      "outputs": [
        {
          "output_type": "stream",
          "name": "stdout",
          "text": [
            "<class 'pandas.core.frame.DataFrame'>\n",
            "RangeIndex: 101 entries, 0 to 100\n",
            "Data columns (total 4 columns):\n",
            " #   Column     Non-Null Count  Dtype  \n",
            "---  ------     --------------  -----  \n",
            " 0   time       101 non-null    object \n",
            " 1   sex        100 non-null    object \n",
            " 2   height     100 non-null    float64\n",
            " 3   shoe_size  100 non-null    float64\n",
            "dtypes: float64(2), object(2)\n",
            "memory usage: 3.3+ KB\n"
          ]
        }
      ]
    },
    {
      "cell_type": "code",
      "source": [
        "df=df.dropna()"
      ],
      "metadata": {
        "id": "BQeVtt4B-RX9"
      },
      "execution_count": null,
      "outputs": []
    },
    {
      "cell_type": "code",
      "source": [
        "df.shape"
      ],
      "metadata": {
        "colab": {
          "base_uri": "https://localhost:8080/"
        },
        "id": "dYIYLBsCy0X-",
        "outputId": "57de4478-6f9a-4296-bb6a-b4f16236d07a"
      },
      "execution_count": null,
      "outputs": [
        {
          "output_type": "execute_result",
          "data": {
            "text/plain": [
              "(100, 4)"
            ]
          },
          "metadata": {},
          "execution_count": 93
        }
      ]
    },
    {
      "cell_type": "code",
      "source": [
        "df.size"
      ],
      "metadata": {
        "colab": {
          "base_uri": "https://localhost:8080/"
        },
        "id": "JkmkXBlNy2GA",
        "outputId": "66b645e7-f4fd-438a-a2cf-8747bb2d06ed"
      },
      "execution_count": null,
      "outputs": [
        {
          "output_type": "execute_result",
          "data": {
            "text/plain": [
              "200"
            ]
          },
          "metadata": {},
          "execution_count": 88
        }
      ]
    },
    {
      "cell_type": "code",
      "source": [
        "#2. Preprocessing\n",
        "df=df.drop(['time','sex'],axis=1)\n",
        "df"
      ],
      "metadata": {
        "colab": {
          "base_uri": "https://localhost:8080/",
          "height": 424
        },
        "id": "OkGrYseJy4PV",
        "outputId": "dcd671f5-35a6-4ec0-daf0-a54ebaab8e6a"
      },
      "execution_count": null,
      "outputs": [
        {
          "output_type": "execute_result",
          "data": {
            "text/plain": [
              "     height  shoe_size\n",
              "0     160.0       40.0\n",
              "1     171.0       39.0\n",
              "2     174.0       39.0\n",
              "3     176.0       40.0\n",
              "4     195.0       46.0\n",
              "..      ...        ...\n",
              "96    170.0       39.0\n",
              "97    183.0       39.0\n",
              "98    173.0       40.0\n",
              "99    160.0       37.0\n",
              "100   168.0       39.0\n",
              "\n",
              "[100 rows x 2 columns]"
            ],
            "text/html": [
              "\n",
              "  <div id=\"df-1000ec84-de86-4346-8783-70cdb281449d\">\n",
              "    <div class=\"colab-df-container\">\n",
              "      <div>\n",
              "<style scoped>\n",
              "    .dataframe tbody tr th:only-of-type {\n",
              "        vertical-align: middle;\n",
              "    }\n",
              "\n",
              "    .dataframe tbody tr th {\n",
              "        vertical-align: top;\n",
              "    }\n",
              "\n",
              "    .dataframe thead th {\n",
              "        text-align: right;\n",
              "    }\n",
              "</style>\n",
              "<table border=\"1\" class=\"dataframe\">\n",
              "  <thead>\n",
              "    <tr style=\"text-align: right;\">\n",
              "      <th></th>\n",
              "      <th>height</th>\n",
              "      <th>shoe_size</th>\n",
              "    </tr>\n",
              "  </thead>\n",
              "  <tbody>\n",
              "    <tr>\n",
              "      <th>0</th>\n",
              "      <td>160.0</td>\n",
              "      <td>40.0</td>\n",
              "    </tr>\n",
              "    <tr>\n",
              "      <th>1</th>\n",
              "      <td>171.0</td>\n",
              "      <td>39.0</td>\n",
              "    </tr>\n",
              "    <tr>\n",
              "      <th>2</th>\n",
              "      <td>174.0</td>\n",
              "      <td>39.0</td>\n",
              "    </tr>\n",
              "    <tr>\n",
              "      <th>3</th>\n",
              "      <td>176.0</td>\n",
              "      <td>40.0</td>\n",
              "    </tr>\n",
              "    <tr>\n",
              "      <th>4</th>\n",
              "      <td>195.0</td>\n",
              "      <td>46.0</td>\n",
              "    </tr>\n",
              "    <tr>\n",
              "      <th>...</th>\n",
              "      <td>...</td>\n",
              "      <td>...</td>\n",
              "    </tr>\n",
              "    <tr>\n",
              "      <th>96</th>\n",
              "      <td>170.0</td>\n",
              "      <td>39.0</td>\n",
              "    </tr>\n",
              "    <tr>\n",
              "      <th>97</th>\n",
              "      <td>183.0</td>\n",
              "      <td>39.0</td>\n",
              "    </tr>\n",
              "    <tr>\n",
              "      <th>98</th>\n",
              "      <td>173.0</td>\n",
              "      <td>40.0</td>\n",
              "    </tr>\n",
              "    <tr>\n",
              "      <th>99</th>\n",
              "      <td>160.0</td>\n",
              "      <td>37.0</td>\n",
              "    </tr>\n",
              "    <tr>\n",
              "      <th>100</th>\n",
              "      <td>168.0</td>\n",
              "      <td>39.0</td>\n",
              "    </tr>\n",
              "  </tbody>\n",
              "</table>\n",
              "<p>100 rows × 2 columns</p>\n",
              "</div>\n",
              "      <button class=\"colab-df-convert\" onclick=\"convertToInteractive('df-1000ec84-de86-4346-8783-70cdb281449d')\"\n",
              "              title=\"Convert this dataframe to an interactive table.\"\n",
              "              style=\"display:none;\">\n",
              "        \n",
              "  <svg xmlns=\"http://www.w3.org/2000/svg\" height=\"24px\"viewBox=\"0 0 24 24\"\n",
              "       width=\"24px\">\n",
              "    <path d=\"M0 0h24v24H0V0z\" fill=\"none\"/>\n",
              "    <path d=\"M18.56 5.44l.94 2.06.94-2.06 2.06-.94-2.06-.94-.94-2.06-.94 2.06-2.06.94zm-11 1L8.5 8.5l.94-2.06 2.06-.94-2.06-.94L8.5 2.5l-.94 2.06-2.06.94zm10 10l.94 2.06.94-2.06 2.06-.94-2.06-.94-.94-2.06-.94 2.06-2.06.94z\"/><path d=\"M17.41 7.96l-1.37-1.37c-.4-.4-.92-.59-1.43-.59-.52 0-1.04.2-1.43.59L10.3 9.45l-7.72 7.72c-.78.78-.78 2.05 0 2.83L4 21.41c.39.39.9.59 1.41.59.51 0 1.02-.2 1.41-.59l7.78-7.78 2.81-2.81c.8-.78.8-2.07 0-2.86zM5.41 20L4 18.59l7.72-7.72 1.47 1.35L5.41 20z\"/>\n",
              "  </svg>\n",
              "      </button>\n",
              "      \n",
              "  <style>\n",
              "    .colab-df-container {\n",
              "      display:flex;\n",
              "      flex-wrap:wrap;\n",
              "      gap: 12px;\n",
              "    }\n",
              "\n",
              "    .colab-df-convert {\n",
              "      background-color: #E8F0FE;\n",
              "      border: none;\n",
              "      border-radius: 50%;\n",
              "      cursor: pointer;\n",
              "      display: none;\n",
              "      fill: #1967D2;\n",
              "      height: 32px;\n",
              "      padding: 0 0 0 0;\n",
              "      width: 32px;\n",
              "    }\n",
              "\n",
              "    .colab-df-convert:hover {\n",
              "      background-color: #E2EBFA;\n",
              "      box-shadow: 0px 1px 2px rgba(60, 64, 67, 0.3), 0px 1px 3px 1px rgba(60, 64, 67, 0.15);\n",
              "      fill: #174EA6;\n",
              "    }\n",
              "\n",
              "    [theme=dark] .colab-df-convert {\n",
              "      background-color: #3B4455;\n",
              "      fill: #D2E3FC;\n",
              "    }\n",
              "\n",
              "    [theme=dark] .colab-df-convert:hover {\n",
              "      background-color: #434B5C;\n",
              "      box-shadow: 0px 1px 3px 1px rgba(0, 0, 0, 0.15);\n",
              "      filter: drop-shadow(0px 1px 2px rgba(0, 0, 0, 0.3));\n",
              "      fill: #FFFFFF;\n",
              "    }\n",
              "  </style>\n",
              "\n",
              "      <script>\n",
              "        const buttonEl =\n",
              "          document.querySelector('#df-1000ec84-de86-4346-8783-70cdb281449d button.colab-df-convert');\n",
              "        buttonEl.style.display =\n",
              "          google.colab.kernel.accessAllowed ? 'block' : 'none';\n",
              "\n",
              "        async function convertToInteractive(key) {\n",
              "          const element = document.querySelector('#df-1000ec84-de86-4346-8783-70cdb281449d');\n",
              "          const dataTable =\n",
              "            await google.colab.kernel.invokeFunction('convertToInteractive',\n",
              "                                                     [key], {});\n",
              "          if (!dataTable) return;\n",
              "\n",
              "          const docLinkHtml = 'Like what you see? Visit the ' +\n",
              "            '<a target=\"_blank\" href=https://colab.research.google.com/notebooks/data_table.ipynb>data table notebook</a>'\n",
              "            + ' to learn more about interactive tables.';\n",
              "          element.innerHTML = '';\n",
              "          dataTable['output_type'] = 'display_data';\n",
              "          await google.colab.output.renderOutput(dataTable, element);\n",
              "          const docLink = document.createElement('div');\n",
              "          docLink.innerHTML = docLinkHtml;\n",
              "          element.appendChild(docLink);\n",
              "        }\n",
              "      </script>\n",
              "    </div>\n",
              "  </div>\n",
              "  "
            ]
          },
          "metadata": {},
          "execution_count": 94
        }
      ]
    },
    {
      "cell_type": "code",
      "source": [
        "df.info()"
      ],
      "metadata": {
        "colab": {
          "base_uri": "https://localhost:8080/"
        },
        "id": "EIq4ase94F5Z",
        "outputId": "dd460da2-b91a-4a07-e0d1-80919f350ca9"
      },
      "execution_count": null,
      "outputs": [
        {
          "output_type": "stream",
          "name": "stdout",
          "text": [
            "<class 'pandas.core.frame.DataFrame'>\n",
            "Int64Index: 100 entries, 0 to 100\n",
            "Data columns (total 2 columns):\n",
            " #   Column     Non-Null Count  Dtype  \n",
            "---  ------     --------------  -----  \n",
            " 0   height     100 non-null    float64\n",
            " 1   shoe_size  100 non-null    float64\n",
            "dtypes: float64(2)\n",
            "memory usage: 2.3 KB\n"
          ]
        }
      ]
    },
    {
      "cell_type": "code",
      "source": [
        "df.groupby(['height','shoe_size']).size()"
      ],
      "metadata": {
        "colab": {
          "base_uri": "https://localhost:8080/"
        },
        "id": "8xkS_i9W9rpH",
        "outputId": "12d80d49-68f1-46cb-fca3-3dacbed34362"
      },
      "execution_count": null,
      "outputs": [
        {
          "output_type": "execute_result",
          "data": {
            "text/plain": [
              "height  shoe_size\n",
              "1.63    38.0         1\n",
              "1.68    38.0         1\n",
              "1.73    38.0         1\n",
              "1.84    41.0         1\n",
              "155.00  37.0         1\n",
              "                    ..\n",
              "187.00  44.0         1\n",
              "195.00  46.0         1\n",
              "205.00  48.0         1\n",
              "206.00  50.0         1\n",
              "364.00  88.0         1\n",
              "Length: 68, dtype: int64"
            ]
          },
          "metadata": {},
          "execution_count": 96
        }
      ]
    },
    {
      "cell_type": "code",
      "source": [
        "#3. Data Visualisation\n",
        "import matplotlib.pyplot as plt\n",
        "plt.plot(df['height'],df['shoe_size'])"
      ],
      "metadata": {
        "colab": {
          "base_uri": "https://localhost:8080/",
          "height": 284
        },
        "id": "Tcbq5-rB0LxR",
        "outputId": "cb4c1acd-3e9c-4a2c-ac79-26de5bde6a43"
      },
      "execution_count": null,
      "outputs": [
        {
          "output_type": "execute_result",
          "data": {
            "text/plain": [
              "[<matplotlib.lines.Line2D at 0x7f448d7e7690>]"
            ]
          },
          "metadata": {},
          "execution_count": 97
        },
        {
          "output_type": "display_data",
          "data": {
            "text/plain": [
              "<Figure size 432x288 with 1 Axes>"
            ],
            "image/png": "[encoded data removed]"
          },
          "metadata": {
            "needs_background": "light"
          }
        }
      ]
    },
    {
      "cell_type": "code",
      "source": [
        "#4. Divide into input and output\n",
        "#input - height\n",
        "#output- shoe_size\n",
        "import numpy as np\n",
        "x =df.iloc[:,0:1].values\n",
        "x"
      ],
      "metadata": {
        "colab": {
          "base_uri": "https://localhost:8080/"
        },
        "id": "iFVGzOyf2rQd",
        "outputId": "acceaf30-a6e0-4c47-a4cf-24ed07cef614"
      },
      "execution_count": null,
      "outputs": [
        {
          "output_type": "execute_result",
          "data": {
            "text/plain": [
              "array([[160.  ],\n",
              "       [171.  ],\n",
              "       [174.  ],\n",
              "       [176.  ],\n",
              "       [195.  ],\n",
              "       [157.  ],\n",
              "       [160.  ],\n",
              "       [178.  ],\n",
              "       [168.  ],\n",
              "       [171.  ],\n",
              "       [165.  ],\n",
              "       [175.  ],\n",
              "       [163.  ],\n",
              "       [158.  ],\n",
              "       [159.  ],\n",
              "       [183.  ],\n",
              "       [155.  ],\n",
              "       [172.  ],\n",
              "       [164.  ],\n",
              "       [158.  ],\n",
              "       [174.  ],\n",
              "       [164.  ],\n",
              "       [168.  ],\n",
              "       [168.  ],\n",
              "       [163.  ],\n",
              "       [160.  ],\n",
              "       [183.  ],\n",
              "       [161.  ],\n",
              "       [162.  ],\n",
              "       [165.  ],\n",
              "       [164.  ],\n",
              "       [161.  ],\n",
              "       [163.  ],\n",
              "       [169.  ],\n",
              "       [171.  ],\n",
              "       [163.  ],\n",
              "       [159.  ],\n",
              "       [180.  ],\n",
              "       [168.  ],\n",
              "       [170.  ],\n",
              "       [168.  ],\n",
              "       [180.  ],\n",
              "       [183.  ],\n",
              "       [170.  ],\n",
              "       [172.  ],\n",
              "       [163.  ],\n",
              "       [168.  ],\n",
              "       [  1.84],\n",
              "       [169.  ],\n",
              "       [206.  ],\n",
              "       [165.  ],\n",
              "       [171.  ],\n",
              "       [165.  ],\n",
              "       [168.  ],\n",
              "       [180.  ],\n",
              "       [160.  ],\n",
              "       [183.  ],\n",
              "       [160.  ],\n",
              "       [171.  ],\n",
              "       [167.  ],\n",
              "       [172.  ],\n",
              "       [  1.63],\n",
              "       [173.  ],\n",
              "       [187.  ],\n",
              "       [176.  ],\n",
              "       [180.  ],\n",
              "       [171.5 ],\n",
              "       [364.  ],\n",
              "       [168.  ],\n",
              "       [175.  ],\n",
              "       [185.  ],\n",
              "       [205.  ],\n",
              "       [165.  ],\n",
              "       [175.  ],\n",
              "       [175.  ],\n",
              "       [172.  ],\n",
              "       [156.  ],\n",
              "       [  1.68],\n",
              "       [163.  ],\n",
              "       [163.  ],\n",
              "       [  1.73],\n",
              "       [169.  ],\n",
              "       [178.  ],\n",
              "       [170.  ],\n",
              "       [168.  ],\n",
              "       [170.  ],\n",
              "       [173.  ],\n",
              "       [171.  ],\n",
              "       [163.  ],\n",
              "       [166.  ],\n",
              "       [159.  ],\n",
              "       [178.  ],\n",
              "       [178.  ],\n",
              "       [169.  ],\n",
              "       [158.  ],\n",
              "       [170.  ],\n",
              "       [183.  ],\n",
              "       [173.  ],\n",
              "       [160.  ],\n",
              "       [168.  ]])"
            ]
          },
          "metadata": {},
          "execution_count": 119
        }
      ]
    },
    {
      "cell_type": "code",
      "source": [
        "y=df.iloc[:,1].values\n",
        "y"
      ],
      "metadata": {
        "colab": {
          "base_uri": "https://localhost:8080/"
        },
        "id": "k7XQdNZx4LTI",
        "outputId": "ea988204-fb57-40dc-b9b4-451f54ddbca6"
      },
      "execution_count": null,
      "outputs": [
        {
          "output_type": "execute_result",
          "data": {
            "text/plain": [
              "array([40. , 39. , 39. , 40. , 46. , 37. , 38. , 39. , 38. , 41. , 39. ,\n",
              "       44. , 38. , 37. , 38. , 44. , 37. , 39. , 39. , 35. , 37. , 37. ,\n",
              "       38. , 38. , 37. , 37. , 46. , 38. , 36. , 37. , 36. , 37. , 39. ,\n",
              "       40. , 39. , 38. , 36. , 42. , 38. , 38. , 38. , 42. , 44. , 40. ,\n",
              "       39. , 38. , 38. , 41. , 38. , 50. , 38. , 40. , 37. , 38. , 44. ,\n",
              "       40. , 44. , 36.5, 40. , 39. , 37. , 38. , 38. , 44. , 40. , 42. ,\n",
              "       39. , 88. , 36. , 39. , 42. , 48. , 36. , 42. , 42. , 41. , 36. ,\n",
              "       38. , 37. , 38. , 38. , 39. , 39. , 38. , 38. , 39. , 40. , 40. ,\n",
              "       38. , 38. , 38. , 41. , 44. , 40. , 37. , 39. , 39. , 40. , 37. ,\n",
              "       39. ])"
            ]
          },
          "metadata": {},
          "execution_count": 120
        }
      ]
    },
    {
      "cell_type": "code",
      "source": [
        "#5. Train and Test variables\n",
        "from sklearn.model_selection import train_test_split\n",
        "x_train,x_test,y_train,y_test=train_test_split(x,y,random_state=0)"
      ],
      "metadata": {
        "id": "F9MjyvOc4RGN"
      },
      "execution_count": null,
      "outputs": []
    },
    {
      "cell_type": "code",
      "source": [
        "print(x.shape)\n",
        "print(x_train.shape)\n",
        "print(x_test.shape)"
      ],
      "metadata": {
        "colab": {
          "base_uri": "https://localhost:8080/"
        },
        "id": "XIgdfBu848mC",
        "outputId": "30e8de2d-9171-4f28-eb48-4dac7278c686"
      },
      "execution_count": null,
      "outputs": [
        {
          "output_type": "stream",
          "name": "stdout",
          "text": [
            "(100, 1)\n",
            "(75, 1)\n",
            "(25, 1)\n"
          ]
        }
      ]
    },
    {
      "cell_type": "code",
      "source": [
        "print(y.shape)\n",
        "print(y_train.shape)\n",
        "print(y_test.shape)"
      ],
      "metadata": {
        "colab": {
          "base_uri": "https://localhost:8080/"
        },
        "id": "A98KqlGG5cQv",
        "outputId": "79fa143b-8afd-4fd3-976b-369c4729eb1e"
      },
      "execution_count": null,
      "outputs": [
        {
          "output_type": "stream",
          "name": "stdout",
          "text": [
            "(100,)\n",
            "(75,)\n",
            "(25,)\n"
          ]
        }
      ]
    },
    {
      "cell_type": "code",
      "source": [
        "#6. Scaling the data\n",
        "from sklearn.preprocessing import MinMaxScaler\n",
        "scaler = MinMaxScaler()\n",
        "x_train = scaler.fit_transform(x_train)\n",
        "x_test = scaler.fit_transform(x_test)"
      ],
      "metadata": {
        "id": "uQSLKSjB5j_z"
      },
      "execution_count": null,
      "outputs": []
    },
    {
      "cell_type": "code",
      "source": [
        "#7. Run a Classifier/Regressor/Clusterer\n",
        "from sklearn.linear_model import LinearRegression\n",
        "model = LinearRegression()"
      ],
      "metadata": {
        "id": "0YNBOXBy8HPN"
      },
      "execution_count": null,
      "outputs": []
    },
    {
      "cell_type": "code",
      "source": [
        "#8.MODEL FITTING\n",
        "model.fit(x_train,y_train)"
      ],
      "metadata": {
        "colab": {
          "base_uri": "https://localhost:8080/"
        },
        "id": "dFaLdCET8m5T",
        "outputId": "f88f5498-bd51-4c1a-fd81-46801ff878a9"
      },
      "execution_count": null,
      "outputs": [
        {
          "output_type": "execute_result",
          "data": {
            "text/plain": [
              "LinearRegression()"
            ]
          },
          "metadata": {},
          "execution_count": 127
        }
      ]
    },
    {
      "cell_type": "code",
      "source": [
        "#9.PREDICT THE OUTPUT\n",
        "y_pred = model.predict(x_test)\n",
        "y_pred #predicted output"
      ],
      "metadata": {
        "colab": {
          "base_uri": "https://localhost:8080/"
        },
        "id": "FWuwyNNy-iSn",
        "outputId": "d30e418e-29aa-4e35-b2f1-9c094f80a1b7"
      },
      "execution_count": null,
      "outputs": [
        {
          "output_type": "execute_result",
          "data": {
            "text/plain": [
              "array([42.84591879, 37.41181763, 37.95522774, 30.34748611, 36.86840751,\n",
              "       35.23817716, 27.63043553, 38.49863786, 41.21568844, 35.78158728,\n",
              "       34.69476704, 40.12886821, 31.97771646, 29.26066588, 40.12886821,\n",
              "       32.52112658, 34.69476704, 31.97771646, 35.23817716, 34.69476704,\n",
              "       35.78158728, 37.41181763, 39.04204798, 54.80094135, 31.97771646])"
            ]
          },
          "metadata": {},
          "execution_count": 128
        }
      ]
    },
    {
      "cell_type": "code",
      "source": [
        "y_test"
      ],
      "metadata": {
        "colab": {
          "base_uri": "https://localhost:8080/"
        },
        "id": "59jrghaI_E8c",
        "outputId": "b72133b6-818b-4cad-ee78-9e4c233f11db"
      },
      "execution_count": null,
      "outputs": [
        {
          "output_type": "execute_result",
          "data": {
            "text/plain": [
              "array([46., 40., 39., 40., 41., 40., 37., 42., 44., 39., 38., 44., 37.,\n",
              "       37., 39., 36., 38., 37., 40., 38., 40., 38., 40., 48., 38.])"
            ]
          },
          "metadata": {},
          "execution_count": 133
        }
      ]
    },
    {
      "cell_type": "code",
      "source": [
        "#INDUVIDUAL PREDICTION\n",
        "a=scaler.transform([[172]])"
      ],
      "metadata": {
        "id": "1DiOH3U_BYHn"
      },
      "execution_count": null,
      "outputs": []
    },
    {
      "cell_type": "code",
      "source": [
        "s=model.predict(a)\n",
        "s"
      ],
      "metadata": {
        "colab": {
          "base_uri": "https://localhost:8080/"
        },
        "id": "FNMnnb9sGpeh",
        "outputId": "bb3f4aa0-2ab2-4ff0-e791-05dc0d798894"
      },
      "execution_count": null,
      "outputs": [
        {
          "output_type": "execute_result",
          "data": {
            "text/plain": [
              "array([36.86840751])"
            ]
          },
          "metadata": {},
          "execution_count": 166
        }
      ]
    },
    {
      "cell_type": "code",
      "source": [
        "a"
      ],
      "metadata": {
        "colab": {
          "base_uri": "https://localhost:8080/"
        },
        "id": "cDrF-ISwIREQ",
        "outputId": "1590024a-49e6-4f29-ae77-a615c4145aa6"
      },
      "execution_count": null,
      "outputs": [
        {
          "output_type": "execute_result",
          "data": {
            "text/plain": [
              "array([[0.34]])"
            ]
          },
          "metadata": {},
          "execution_count": 167
        }
      ]
    },
    {
      "cell_type": "code",
      "source": [
        "#As we can see that the induvidual accuracy is almost about the range 92% to 97%\n",
        "#We  can say that the model is designed or created almost accurately."
      ],
      "metadata": {
        "id": "mWYCwfNHIRwA"
      },
      "execution_count": null,
      "outputs": []
    }
  ]
}